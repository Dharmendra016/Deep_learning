{
  "nbformat": 4,
  "nbformat_minor": 0,
  "metadata": {
    "colab": {
      "provenance": []
    },
    "kernelspec": {
      "name": "python3",
      "display_name": "Python 3"
    },
    "language_info": {
      "name": "python"
    }
  },
  "cells": [
    {
      "cell_type": "code",
      "execution_count": 1,
      "metadata": {
        "id": "s_lu-YasacbP"
      },
      "outputs": [],
      "source": [
        "from sklearn.datasets import make_regression\n",
        "import matplotlib.pyplot as plt\n",
        "import numpy as np"
      ]
    },
    {
      "cell_type": "code",
      "source": [
        "X , y = make_regression(n_samples=100, n_features=1, noise=20 , n_informative=1 , n_targets=1)"
      ],
      "metadata": {
        "id": "Q9oGngsEanbG"
      },
      "execution_count": 2,
      "outputs": []
    },
    {
      "cell_type": "code",
      "source": [
        "plt.scatter(X,y)"
      ],
      "metadata": {
        "colab": {
          "base_uri": "https://localhost:8080/",
          "height": 447
        },
        "id": "Z3DyIeUHanz4",
        "outputId": "7bfdaa36-3480-4f75-8329-2b7e6f9a36fd"
      },
      "execution_count": 3,
      "outputs": [
        {
          "output_type": "execute_result",
          "data": {
            "text/plain": [
              "<matplotlib.collections.PathCollection at 0x7b5d270f1e10>"
            ]
          },
          "metadata": {},
          "execution_count": 3
        },
        {
          "output_type": "display_data",
          "data": {
            "text/plain": [
              "<Figure size 640x480 with 1 Axes>"
            ],
            "image/png": "[encoded data removed]"
          },
          "metadata": {}
        }
      ]
    },
    {
      "cell_type": "code",
      "source": [
        "from sklearn.linear_model import LinearRegression\n",
        "lr = LinearRegression()"
      ],
      "metadata": {
        "id": "AYpdIj8aapvE"
      },
      "execution_count": 4,
      "outputs": []
    },
    {
      "cell_type": "code",
      "source": [
        "lr.fit(X ,y)\n",
        "print(lr.coef_)\n",
        "print(lr.intercept_)"
      ],
      "metadata": {
        "colab": {
          "base_uri": "https://localhost:8080/"
        },
        "id": "wMGLlWfGayR_",
        "outputId": "18f1adc7-94fd-40ba-caae-7043219e1c2e"
      },
      "execution_count": 5,
      "outputs": [
        {
          "output_type": "stream",
          "name": "stdout",
          "text": [
            "[65.62703224]\n",
            "-0.7010588922037493\n"
          ]
        }
      ]
    },
    {
      "cell_type": "code",
      "source": [
        "class GDRegressor:\n",
        "    def __init__(self , learning_rate , epochs):\n",
        "      self.m = 300\n",
        "      self.b = -220\n",
        "      self.lr = learning_rate\n",
        "      self.epochs = epochs\n",
        "\n",
        "    def fit (self , X , y):\n",
        "      #calculate the b using GD\n",
        "      for i in range(self.epochs):\n",
        "        loss_slope_b = -2 * np.sum(y - self.m * X.ravel() - self.b)\n",
        "        loss_slope_m = -2 * np.sum((y - self.m * X.ravel() - self.b)*X.ravel())\n",
        "        self.b = self.b - (self.lr* loss_slope_b)\n",
        "        self.m = self.m - (self.lr* loss_slope_m)\n",
        "        # print(self.m , self.b)\n",
        "      print(self.m ,self.b)"
      ],
      "metadata": {
        "id": "k0oPfeGsa1Du"
      },
      "execution_count": 23,
      "outputs": []
    },
    {
      "cell_type": "code",
      "source": [
        "gd = GDRegressor(0.001 , 1000)"
      ],
      "metadata": {
        "id": "EK9oMqFYbdwr"
      },
      "execution_count": 24,
      "outputs": []
    },
    {
      "cell_type": "code",
      "source": [
        "gd.fit(X ,y)"
      ],
      "metadata": {
        "colab": {
          "base_uri": "https://localhost:8080/"
        },
        "id": "_vu57sRbbi70",
        "outputId": "4bf78601-9cc5-489b-8e84-d1334bc96741"
      },
      "execution_count": 25,
      "outputs": [
        {
          "output_type": "stream",
          "name": "stdout",
          "text": [
            "65.62703223646157 -0.7010588922037515\n"
          ]
        }
      ]
    },
    {
      "cell_type": "code",
      "source": [],
      "metadata": {
        "id": "JaKHJQKIbl1-"
      },
      "execution_count": null,
      "outputs": []
    }
  ]
}
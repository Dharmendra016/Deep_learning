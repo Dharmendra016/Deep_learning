{
  "nbformat": 4,
  "nbformat_minor": 0,
  "metadata": {
    "colab": {
      "provenance": []
    },
    "kernelspec": {
      "name": "python3",
      "display_name": "Python 3"
    },
    "language_info": {
      "name": "python"
    }
  },
  "cells": [
    {
      "cell_type": "code",
      "execution_count": 5,
      "metadata": {
        "id": "nfBWSOuV5zMs"
      },
      "outputs": [],
      "source": [
        "from sklearn.datasets import make_regression\n",
        "import matplotlib.pyplot as plt\n",
        "import numpy as np\n",
        "import pandas as pd"
      ]
    },
    {
      "cell_type": "code",
      "source": [
        "X , y = make_regression(n_samples=100, n_features=1, noise=20 , n_informative=1 , n_targets=1)"
      ],
      "metadata": {
        "id": "2thvk7j-6Atz"
      },
      "execution_count": 2,
      "outputs": []
    },
    {
      "cell_type": "code",
      "source": [
        "plt.scatter(X,y)"
      ],
      "metadata": {
        "colab": {
          "base_uri": "https://localhost:8080/",
          "height": 449
        },
        "id": "hH-giGk16BCu",
        "outputId": "e50c427a-f84b-4dd3-9810-2cb61d6ee443"
      },
      "execution_count": 9,
      "outputs": [
        {
          "output_type": "execute_result",
          "data": {
            "text/plain": [
              "<matplotlib.collections.PathCollection at 0x7c5adc9d2ce0>"
            ]
          },
          "metadata": {},
          "execution_count": 9
        },
        {
          "output_type": "display_data",
          "data": {
            "text/plain": [
              "<Figure size 640x480 with 1 Axes>"
            ],
            "image/png": "[encoded data removed]"
          },
          "metadata": {}
        }
      ]
    },
    {
      "cell_type": "code",
      "source": [
        "from sklearn.linear_model import LinearRegression"
      ],
      "metadata": {
        "id": "xNxljBgK6BLX"
      },
      "execution_count": 10,
      "outputs": []
    },
    {
      "cell_type": "code",
      "source": [
        "lr = LinearRegression()"
      ],
      "metadata": {
        "id": "4EOmWvRm6BVe"
      },
      "execution_count": 11,
      "outputs": []
    },
    {
      "cell_type": "code",
      "source": [
        "lr.fit(X ,y)\n",
        "print(lr.coef_)\n",
        "print(lr.intercept_)"
      ],
      "metadata": {
        "colab": {
          "base_uri": "https://localhost:8080/"
        },
        "id": "-v-kY_kW6yNK",
        "outputId": "ac0f67e9-2fe6-4de8-d194-a70601163f2f"
      },
      "execution_count": 12,
      "outputs": [
        {
          "output_type": "stream",
          "name": "stdout",
          "text": [
            "[35.20021554]\n",
            "-0.7465785131932767\n"
          ]
        }
      ]
    },
    {
      "cell_type": "code",
      "source": [
        "m = 35.20"
      ],
      "metadata": {
        "id": "1n8LeDHY66Rl"
      },
      "execution_count": 13,
      "outputs": []
    },
    {
      "cell_type": "code",
      "source": [
        "class GDRegressor:\n",
        "    def __init__(self , learning_rate , epochs):\n",
        "      self.m = 35.20\n",
        "      self.b = -120\n",
        "      self.lr = learning_rate\n",
        "      self.epochs = epochs\n",
        "\n",
        "    def fit (self , X , y):\n",
        "      #calculate the b using GD\n",
        "      for i in range(self.epochs):\n",
        "        loss_slope = -2 * np.sum(y - self.m * X.ravel() - self.b)\n",
        "        self.b = self.b - (self.lr* loss_slope)\n",
        "        print(loss_slope , self.b)\n",
        "      print(self.b)"
      ],
      "metadata": {
        "id": "zDDgt4BM68mf"
      },
      "execution_count": 26,
      "outputs": []
    },
    {
      "cell_type": "code",
      "source": [
        "gd = GDRegressor(0.01 , 10)"
      ],
      "metadata": {
        "id": "E9l2_hbQ75fk"
      },
      "execution_count": 27,
      "outputs": []
    },
    {
      "cell_type": "code",
      "source": [
        "gd.fit(X ,y)   #can't converge, moves right and left zig zag, due to bad choise of lr and epochs"
      ],
      "metadata": {
        "colab": {
          "base_uri": "https://localhost:8080/"
        },
        "id": "L9XgjBA_7-88",
        "outputId": "037a75ed-0060-448f-a7e5-9cc75ec34114"
      },
      "execution_count": 28,
      "outputs": [
        {
          "output_type": "stream",
          "name": "stdout",
          "text": [
            "-23850.677357575692 118.50677357575694\n",
            "23850.677357575696 -120.00000000000003\n",
            "-23850.677357575696 118.50677357575694\n",
            "23850.677357575696 -120.00000000000003\n",
            "-23850.677357575696 118.50677357575694\n",
            "23850.677357575696 -120.00000000000003\n",
            "-23850.677357575696 118.50677357575694\n",
            "23850.677357575696 -120.00000000000003\n",
            "-23850.677357575696 118.50677357575694\n",
            "23850.677357575696 -120.00000000000003\n",
            "-120.00000000000003\n"
          ]
        }
      ]
    },
    {
      "cell_type": "markdown",
      "source": [
        "So doing this will converge and the value of b nearly equal to the above b find using LinearRegression model\n"
      ],
      "metadata": {
        "id": "2OQc7GCs9jhu"
      }
    },
    {
      "cell_type": "code",
      "source": [
        "#to fix the above problem decrease lr and increase epochs\n",
        "gd = GDRegressor(0.001 , 100)\n",
        "gd.fit(X, y)"
      ],
      "metadata": {
        "colab": {
          "base_uri": "https://localhost:8080/"
        },
        "id": "CrDlxl0988A4",
        "outputId": "ed5202ff-db42-4c48-ba77-509d219b3687"
      },
      "execution_count": 31,
      "outputs": [
        {
          "output_type": "stream",
          "name": "stdout",
          "text": [
            "-23850.677357575692 -96.14932264242431\n",
            "-19080.541886060553 -77.06878075636375\n",
            "-15264.433508848439 -61.80434724751531\n",
            "-12211.546807078748 -49.59280044043656\n",
            "-9769.237445662999 -39.82356299477357\n",
            "-7815.389956530401 -32.008173038243164\n",
            "-6252.3119652243195 -25.755861073018846\n",
            "-5001.849572179457 -20.75401150083939\n",
            "-4001.4796577435654 -16.752531843095824\n",
            "-3201.1837261948526 -13.551348116900972\n",
            "-2560.9469809558823 -10.990401135945088\n",
            "-2048.757584764706 -8.941643551180382\n",
            "-1639.006067811764 -7.302637483368618\n",
            "-1311.2048542494113 -5.991432629119206\n",
            "-1048.9638833995289 -4.942468745719677\n",
            "-839.1711067196231 -4.103297639000054\n",
            "-671.3368853756986 -3.4319607536243555\n",
            "-537.0695083005589 -2.8948912453237963\n",
            "-429.65560664044716 -2.465235638683349\n",
            "-343.7244853123576 -2.1215111533709914\n",
            "-274.97958824988615 -1.8465315651211052\n",
            "-219.98367059990875 -1.6265478945211964\n",
            "-175.9869364799271 -1.4505609580412693\n",
            "-140.78954918394163 -1.3097714088573276\n",
            "-112.63163934715324 -1.1971397695101744\n",
            "-90.10531147772257 -1.1070344580324518\n",
            "-72.08424918217814 -1.0349502088502738\n",
            "-57.66739934574245 -0.9772828095045313\n",
            "-46.133919476593974 -0.9311488900279373\n",
            "-36.90713558127529 -0.894241754446662\n",
            "-29.525708465020067 -0.8647160459816419\n",
            "-23.62056677201607 -0.8410954792096258\n",
            "-18.89645341761286 -0.822199025792013\n",
            "-15.117162734090464 -0.8070818630579225\n",
            "-12.093730187272381 -0.7949881328706502\n",
            "-9.674984149817726 -0.7853131487208325\n",
            "-7.73998731985416 -0.7775731614009783\n",
            "-6.191989855883602 -0.7713811715450947\n",
            "-4.953591884706661 -0.766427579660388\n",
            "-3.962873507765332 -0.7624647061526226\n",
            "-3.1702988062123545 -0.7592944073464103\n",
            "-2.5362390449697862 -0.7567581683014405\n",
            "-2.0289912359759104 -0.7547291770654646\n",
            "-1.6231929887806267 -0.7531059840766839\n",
            "-1.298554391024549 -0.7518074296856594\n",
            "-1.0388435128196605 -0.7507685861728397\n",
            "-0.8310748102556396 -0.749937511362584\n",
            "-0.6648598482046157 -0.7492726515143794\n",
            "-0.5318878785635697 -0.7487407636358158\n",
            "-0.4255103028508742 -0.7483152533329649\n",
            "-0.34040824228078037 -0.7479748450906841\n",
            "-0.2723265938246495 -0.7477025184968594\n",
            "-0.2178612750595601 -0.7474846572217999\n",
            "-0.17428902004784064 -0.7473103682017521\n",
            "-0.13943121603823982 -0.7471709369857139\n",
            "-0.11154497283060572 -0.7470593920128833\n",
            "-0.08923597826440677 -0.7469701560346189\n",
            "-0.0713887826115247 -0.7468987672520074\n",
            "-0.05711102608910679 -0.7468416562259184\n",
            "-0.045688820871411906 -0.746795967405047\n",
            "-0.03655105669712455 -0.7467594163483499\n",
            "-0.02924084535781013 -0.746730175502992\n",
            "-0.02339267628629571 -0.7467067828267058\n",
            "-0.018714141029015252 -0.7466880686856767\n",
            "-0.014971312823330862 -0.7466730973728534\n",
            "-0.011977050258447974 -0.7466611203225949\n",
            "-0.009581640206750563 -0.7466515386823882\n",
            "-0.007665312165446636 -0.7466438733702228\n",
            "-0.006132249732221595 -0.7466377411204905\n",
            "-0.004905799785994702 -0.7466328353207046\n",
            "-0.003924639828571941 -0.746628910680876\n",
            "-0.003139711862978345 -0.7466257709690131\n",
            "-0.002511769490507021 -0.7466232591995225\n",
            "-0.0020094155923295887 -0.7466212497839302\n",
            "-0.0016075324738800134 -0.7466196422514563\n",
            "-0.0012860259790201667 -0.7466183562254772\n",
            "-0.0010288207830377871 -0.7466173274046942\n",
            "-0.0008230566267535266 -0.7466165043480675\n",
            "-0.0006584453013154246 -0.7466158459027662\n",
            "-0.0005267562411486182 -0.746615319146525\n",
            "-0.00042140499279952337 -0.7466148977415322\n",
            "-0.00033712399426732986 -0.746614560617538\n",
            "-0.00026969919533748055 -0.7466142909183426\n",
            "-0.00021575935624085218 -0.7466140751589864\n",
            "-0.00017260748511382928 -0.7466139025515013\n",
            "-0.0001380859881869867 -0.7466137644655131\n",
            "-0.00011046879060572223 -0.7466136539967225\n",
            "-8.837503223091403e-05 -0.7466135656216903\n",
            "-7.070002585152224e-05 -0.7466134949216645\n",
            "-5.656002068832322e-05 -0.7466134383616438\n",
            "-4.5248016451893136e-05 -0.7466133931136274\n",
            "-3.619841321977901e-05 -0.7466133569152141\n",
            "-2.8958730677430822e-05 -0.7466133279564835\n",
            "-2.316698458670885e-05 -0.7466133047894989\n",
            "-1.8533587528679618e-05 -0.7466132862559114\n",
            "-1.4826870064155173e-05 -0.7466132714290413\n",
            "-1.1861496027165686e-05 -0.7466132595675453\n",
            "-9.489196930445587e-06 -0.7466132500783483\n",
            "-7.591357327640935e-06 -0.746613242486991\n",
            "-6.0730859647861735e-06 -0.7466132364139051\n",
            "-0.7466132364139051\n"
          ]
        }
      ]
    },
    {
      "cell_type": "code",
      "source": [],
      "metadata": {
        "id": "LVcRRaQj9dlp"
      },
      "execution_count": null,
      "outputs": []
    }
  ]
}